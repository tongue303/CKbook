{
 "cells": [
  {
   "cell_type": "code",
   "execution_count": 1,
   "metadata": {
    "collapsed": false
   },
   "outputs": [],
   "source": [
    "# acousticsツールボックスの調査\n",
    "from acoustics.signal import octave_filter\n",
    "import acoustics.signal as asig\n",
    "from scipy import signal\n",
    "import numpy as np"
   ]
  },
  {
   "cell_type": "markdown",
   "metadata": {},
   "source": [
    "# Acousticsツールボックスの調査"
   ]
  },
  {
   "cell_type": "code",
   "execution_count": 2,
   "metadata": {
    "collapsed": false
   },
   "outputs": [
    {
     "name": "stdout",
     "output_type": "stream",
     "text": [
      "Acousticsツールボックスによる中心周波数計算 [ 1995.26231497] Hz\n"
     ]
    }
   ],
   "source": [
    "# 中心周波数の計算法の確認\n",
    "ob = asig.OctaveBand(center=2000,fraction=3)\n",
    "print('Acousticsツールボックスによる中心周波数計算 {} Hz'.format(ob.center))"
   ]
  },
  {
   "cell_type": "code",
   "execution_count": 3,
   "metadata": {
    "collapsed": false
   },
   "outputs": [
    {
     "name": "stdout",
     "output_type": "stream",
     "text": [
      "JIS C 1514による中心周波数計算 1995.2623149688795 Hz\n"
     ]
    }
   ],
   "source": [
    "# https://www.onosokki.co.jp/HP-WK/c_support/newreport/noise/souon_11.htm\n",
    "# JIS C 1514計算方法\n",
    "g10 = np.power(10,3/10)\n",
    "fr  = 1000\n",
    "N   = 3\n",
    "fm  = 1000*pow(g10,3/N)\n",
    "print('JIS C 1514による中心周波数計算 {} Hz'.format(fm))"
   ]
  },
  {
   "cell_type": "markdown",
   "metadata": {},
   "source": [
    "上記確認により、Acousticsツールボックスは、JIS C 1514の方法に則りフィルタ計算していることがわかる。\n",
    "なお、対応する国際規格は(IEC 61260：1995)である。"
   ]
  },
  {
   "cell_type": "code",
   "execution_count": 4,
   "metadata": {
    "collapsed": false
   },
   "outputs": [],
   "source": [
    "# octave_filter (デフォルトでbutterのsosフィルタを設計する)\n",
    "fc  = 1000\n",
    "fs  = 44100\n",
    "of  = asig.octave_filter(center=fc,fs=fs,fraction=3)\n",
    "b,a = signal.sos2tf(of)\n",
    "w,h = signal.freqz(b,a)"
   ]
  },
  {
   "cell_type": "code",
   "execution_count": 5,
   "metadata": {
    "collapsed": false
   },
   "outputs": [],
   "source": [
    "import matplotlib.pyplot as plt\n",
    "%matplotlib inline"
   ]
  },
  {
   "cell_type": "code",
   "execution_count": 6,
   "metadata": {
    "collapsed": false
   },
   "outputs": [
    {
     "data": {
      "text/plain": [
       "(-70, 10)"
      ]
     },
     "execution_count": 6,
     "metadata": {},
     "output_type": "execute_result"
    },
    {
     "data": {
      "image/png": "[encoded data removed]",
      "text/plain": [
       "<matplotlib.figure.Figure at 0x113a0ae80>"
      ]
     },
     "metadata": {},
     "output_type": "display_data"
    }
   ],
   "source": [
    "fig = plt.figure()\n",
    "plt.title('Digital filter frequency response')\n",
    "ax1 = fig.add_subplot(111)\n",
    "plt.plot(fs*w/(2*np.pi)/fc, 20 * np.log10(abs(h)), 'b')\n",
    "plt.ylabel('Amplitude [dB]', color='b')\n",
    "plt.xlabel('Frequency [-]')\n",
    "plt.xscale('log')\n",
    "plt.grid()\n",
    "plt.xlim([0.1,10])\n",
    "plt.ylim([-70,10])"
   ]
  },
  {
   "cell_type": "markdown",
   "metadata": {},
   "source": [
    "https://www.onosokki.co.jp/HP-WK/c_support/newreport/noise/souon_11.htm\n",
    "を参照"
   ]
  },
  {
   "cell_type": "markdown",
   "metadata": {},
   "source": [
    "## acoustics.signal.octavepassの例題\n",
    "http://python-acoustics.github.io/python-acoustics/signal.html?highlight=frequencies#acoustics.signal.Filterbank.frequencies  \n",
    "を使ってフィルタを行う"
   ]
  },
  {
   "cell_type": "code",
   "execution_count": 82,
   "metadata": {
    "collapsed": false
   },
   "outputs": [],
   "source": [
    "#シグナル作成\n",
    "sig  = np.random.randn(fs)\n",
    "\n",
    "#オクターブフィルタの周波数特性作成\n",
    "from acoustics.octave import Octave\n",
    "o = Octave(fmin=20.0, fmax=10000, fraction=3)\n",
    "\n",
    "# 配列確保\n",
    "fsig = np.zeros((fs,len(o.center)))\n",
    "\n",
    "# フィルタリング実施\n",
    "for I in range(len(o.center)):\n",
    "    fsig[:,I] = asig.octavepass(sig,o.center[I],fs,3)"
   ]
  },
  {
   "cell_type": "code",
   "execution_count": 90,
   "metadata": {
    "collapsed": false
   },
   "outputs": [
    {
     "data": {
      "text/plain": [
       "[<matplotlib.lines.Line2D at 0x12a4b5048>]"
      ]
     },
     "execution_count": 90,
     "metadata": {},
     "output_type": "execute_result"
    },
    {
     "data": {
      "image/png": "[encoded data removed]",
      "text/plain": [
       "<matplotlib.figure.Figure at 0x12adb4588>"
      ]
     },
     "metadata": {},
     "output_type": "display_data"
    }
   ],
   "source": [
    "plt.plot(fsig[:,25])"
   ]
  },
  {
   "cell_type": "code",
   "execution_count": 78,
   "metadata": {
    "collapsed": false
   },
   "outputs": [
    {
     "data": {
      "text/plain": [
       "array([   112.20184543,    141.25375446,    177.827941  ,    223.87211386,\n",
       "          281.83829313,    354.81338923,    446.68359215,    562.34132519,\n",
       "          707.94578438,    891.25093813,   1122.0184543 ,   1412.53754462,\n",
       "         1778.27941004,   2238.72113857,   2818.38293126,   3548.13389234,\n",
       "         4466.83592151,   5623.4132519 ,   7079.45784384,   8912.50938134,\n",
       "        11220.18454302,  14125.37544623,  17782.79410039,  22387.21138568])"
      ]
     },
     "execution_count": 78,
     "metadata": {},
     "output_type": "execute_result"
    }
   ],
   "source": [
    "from acoustics.octave import Octave\n",
    "o = Octave(fmin=100.0, fmax=20000, fraction=3)\n",
    "o.upper"
   ]
  },
  {
   "cell_type": "code",
   "execution_count": null,
   "metadata": {
    "collapsed": true
   },
   "outputs": [],
   "source": []
  }
 ],
 "metadata": {
  "kernelspec": {
   "display_name": "Python 3",
   "language": "python",
   "name": "python3"
  },
  "language_info": {
   "codemirror_mode": {
    "name": "ipython",
    "version": 3
   },
   "file_extension": ".py",
   "mimetype": "text/x-python",
   "name": "python",
   "nbconvert_exporter": "python",
   "pygments_lexer": "ipython3",
   "version": "3.6.0"
  }
 },
 "nbformat": 4,
 "nbformat_minor": 2
}
