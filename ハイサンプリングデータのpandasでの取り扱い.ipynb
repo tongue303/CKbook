{
 "cells": [
  {
   "cell_type": "markdown",
   "metadata": {},
   "source": [
    "# ハイサンプリングデータのpandasでの記載法\n",
    "## 参考\n",
    "http://pandas.pydata.org/pandas-docs/stable/timeseries.html#offset-aliases\n",
    "\n",
    "ハイサンプリングデータのpandasでの記載法は以下のとおり。"
   ]
  },
  {
   "cell_type": "code",
   "execution_count": 107,
   "metadata": {
    "collapsed": true
   },
   "outputs": [],
   "source": [
    "import pandas as pd\n",
    "import numpy as np\n",
    "import datetime\n",
    "\n",
    "# ブラウザ内に画像を埋め込むための命令です\n",
    "%matplotlib inline\n",
    "%config inlineBackend.figure_format = 'retina'"
   ]
  },
  {
   "cell_type": "code",
   "execution_count": 75,
   "metadata": {
    "collapsed": false
   },
   "outputs": [
    {
     "name": "stdout",
     "output_type": "stream",
     "text": [
      "サンプリング周波数51200Hzのサンプリング周期は19531.25nsとなる。\n",
      "サンプリング周波数51200Hzのサンプリング周期は19531250.0psとなる。\n"
     ]
    }
   ],
   "source": [
    "# サンプリングレート\n",
    "Fs  = 51200\n",
    "Ts  = (1/Fs)*1e9\n",
    "Tsp = (1/Fs)*1e12\n",
    "print('サンプリング周波数{}'.format(Fs)+'Hzのサンプリング周期は{}'.format(Ts)+'nsとなる。')\n",
    "print('サンプリング周波数{}'.format(Fs)+'Hzのサンプリング周期は{}'.format(Tsp)+'psとなる。')"
   ]
  },
  {
   "cell_type": "code",
   "execution_count": 24,
   "metadata": {
    "collapsed": false
   },
   "outputs": [
    {
     "data": {
      "text/plain": [
       "DatetimeIndex([          '1969-01-01 00:00:00',\n",
       "               '1969-01-01 00:00:00.000019531',\n",
       "               '1969-01-01 00:00:00.000039062',\n",
       "               '1969-01-01 00:00:00.000058593',\n",
       "               '1969-01-01 00:00:00.000078124'],\n",
       "              dtype='datetime64[ns]', freq='19531N')"
      ]
     },
     "execution_count": 24,
     "metadata": {},
     "output_type": "execute_result"
    }
   ],
   "source": [
    "pd.date_range('1969-JAN', periods=5, freq='{}N'.format(round(Ts)))"
   ]
  },
  {
   "cell_type": "markdown",
   "metadata": {},
   "source": [
    "このように少し丸め誤差が入ってしまう。入らない方法は？"
   ]
  },
  {
   "cell_type": "code",
   "execution_count": 32,
   "metadata": {
    "collapsed": false
   },
   "outputs": [
    {
     "data": {
      "text/plain": [
       "numpy.datetime64('1970-01-05T18:15:55.577426903040')"
      ]
     },
     "execution_count": 32,
     "metadata": {},
     "output_type": "execute_result"
    }
   ],
   "source": [
    "np.datetime64('2005-02', 'ps')"
   ]
  },
  {
   "cell_type": "code",
   "execution_count": 38,
   "metadata": {
    "collapsed": false
   },
   "outputs": [
    {
     "data": {
      "text/plain": [
       "TimedeltaIndex([       '1 days 00:00:00', '1 days 00:00:00.000019',\n",
       "                '1 days 00:00:00.000039', '1 days 00:00:00.000058',\n",
       "                '1 days 00:00:00.000078'],\n",
       "               dtype='timedelta64[ns]', freq='19531N')"
      ]
     },
     "execution_count": 38,
     "metadata": {},
     "output_type": "execute_result"
    }
   ],
   "source": [
    "pd.timedelta_range(start='1 days', periods=5, freq='{}N'.format(round(Ts)))"
   ]
  },
  {
   "cell_type": "code",
   "execution_count": 97,
   "metadata": {
    "collapsed": false
   },
   "outputs": [
    {
     "data": {
      "text/plain": [
       "Timestamp('2014-11-09 10:00:00.001953125')"
      ]
     },
     "execution_count": 97,
     "metadata": {},
     "output_type": "execute_result"
    }
   ],
   "source": [
    "dt = pd.to_datetime('2014-11-09 10:00')\n",
    "dt + 100*np.timedelta64(round(Tsp), 'ps')"
   ]
  },
  {
   "cell_type": "code",
   "execution_count": 103,
   "metadata": {
    "collapsed": false
   },
   "outputs": [],
   "source": [
    "a = pd.Series([100,200,300,400,500], index=[0,Tsp*1e-12,2*Tsp*1e-12,3*Tsp*1e-12,4*Tsp*1e-12]) "
   ]
  },
  {
   "cell_type": "code",
   "execution_count": 105,
   "metadata": {
    "collapsed": false
   },
   "outputs": [
    {
     "data": {
      "text/plain": [
       "Float64Index([0.0, 1.953125e-05, 3.90625e-05, 5.859375e-05, 7.8125e-05], dtype='float64')"
      ]
     },
     "execution_count": 105,
     "metadata": {},
     "output_type": "execute_result"
    }
   ],
   "source": [
    "a.index"
   ]
  },
  {
   "cell_type": "code",
   "execution_count": 108,
   "metadata": {
    "collapsed": false
   },
   "outputs": [
    {
     "data": {
      "text/plain": [
       "<matplotlib.axes._subplots.AxesSubplot at 0x10da78eb8>"
      ]
     },
     "execution_count": 108,
     "metadata": {},
     "output_type": "execute_result"
    },
    {
     "data": {
      "image/png": "[encoded data removed]",
      "text/plain": [
       "<matplotlib.figure.Figure at 0x10dabbac8>"
      ]
     },
     "metadata": {},
     "output_type": "display_data"
    }
   ],
   "source": [
    "a.plot()"
   ]
  },
  {
   "cell_type": "code",
   "execution_count": null,
   "metadata": {
    "collapsed": true
   },
   "outputs": [],
   "source": []
  }
 ],
 "metadata": {
  "kernelspec": {
   "display_name": "Python 3",
   "language": "python",
   "name": "python3"
  },
  "language_info": {
   "codemirror_mode": {
    "name": "ipython",
    "version": 3
   },
   "file_extension": ".py",
   "mimetype": "text/x-python",
   "name": "python",
   "nbconvert_exporter": "python",
   "pygments_lexer": "ipython3",
   "version": "3.6.0"
  }
 },
 "nbformat": 4,
 "nbformat_minor": 2
}
